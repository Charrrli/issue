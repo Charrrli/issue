{
 "cells": [
  {
   "cell_type": "code",
   "execution_count": 1,
   "id": "0369fd6e",
   "metadata": {},
   "outputs": [],
   "source": [
    "import pandas as pd\n",
    "import json"
   ]
  },
  {
   "cell_type": "code",
   "execution_count": 2,
   "id": "5505ba10",
   "metadata": {},
   "outputs": [],
   "source": [
    "data = pd.read_json(\"./issue/0_1.json\")"
   ]
  },
  {
   "cell_type": "code",
   "execution_count": 105,
   "id": "f2f6746c",
   "metadata": {},
   "outputs": [
    {
     "data": {
      "text/plain": [
       "1046181758"
      ]
     },
     "execution_count": 105,
     "metadata": {},
     "output_type": "execute_result"
    }
   ],
   "source": [
    "data[\"issue\"][0][\"id\"]"
   ]
  },
  {
   "cell_type": "code",
   "execution_count": 11,
   "id": "a1e50b8b",
   "metadata": {},
   "outputs": [
    {
     "data": {
      "text/plain": [
       "'https://api.github.com/repos/tensorflow/tensorflow/issues/events/5657143389'"
      ]
     },
     "execution_count": 11,
     "metadata": {},
     "output_type": "execute_result"
    }
   ],
   "source": [
    "data[\"url\"][0]"
   ]
  },
  {
   "cell_type": "code",
   "execution_count": 22,
   "id": "35638d84",
   "metadata": {},
   "outputs": [
    {
     "data": {
      "text/plain": [
       "'Add NVIDIA/TensorRT repo to third_party/tensorrt'"
      ]
     },
     "execution_count": 22,
     "metadata": {},
     "output_type": "execute_result"
    }
   ],
   "source": [
    "data[\"issue\"][0][\"title\"]"
   ]
  },
  {
   "cell_type": "code",
   "execution_count": 4,
   "id": "0486e8d1",
   "metadata": {},
   "outputs": [
    {
     "data": {
      "text/plain": [
       "{'url': 'https://api.github.com/repos/tensorflow/tensorflow/issues/52967',\n",
       " 'repository_url': 'https://api.github.com/repos/tensorflow/tensorflow',\n",
       " 'labels_url': 'https://api.github.com/repos/tensorflow/tensorflow/issues/52967/labels{/name}',\n",
       " 'comments_url': 'https://api.github.com/repos/tensorflow/tensorflow/issues/52967/comments',\n",
       " 'events_url': 'https://api.github.com/repos/tensorflow/tensorflow/issues/52967/events',\n",
       " 'html_url': 'https://github.com/tensorflow/tensorflow/pull/52967',\n",
       " 'id': 1046181758,\n",
       " 'node_id': 'PR_kwDOArmXAs4uKnCu',\n",
       " 'number': 52967,\n",
       " 'title': 'Add NVIDIA/TensorRT repo to third_party/tensorrt',\n",
       " 'user': {'login': 'christopherbate',\n",
       "  'id': 30323187,\n",
       "  'node_id': 'MDQ6VXNlcjMwMzIzMTg3',\n",
       "  'avatar_url': 'https://avatars.githubusercontent.com/u/30323187?v=4',\n",
       "  'gravatar_id': '',\n",
       "  'url': 'https://api.github.com/users/christopherbate',\n",
       "  'html_url': 'https://github.com/christopherbate',\n",
       "  'followers_url': 'https://api.github.com/users/christopherbate/followers',\n",
       "  'following_url': 'https://api.github.com/users/christopherbate/following{/other_user}',\n",
       "  'gists_url': 'https://api.github.com/users/christopherbate/gists{/gist_id}',\n",
       "  'starred_url': 'https://api.github.com/users/christopherbate/starred{/owner}{/repo}',\n",
       "  'subscriptions_url': 'https://api.github.com/users/christopherbate/subscriptions',\n",
       "  'organizations_url': 'https://api.github.com/users/christopherbate/orgs',\n",
       "  'repos_url': 'https://api.github.com/users/christopherbate/repos',\n",
       "  'events_url': 'https://api.github.com/users/christopherbate/events{/privacy}',\n",
       "  'received_events_url': 'https://api.github.com/users/christopherbate/received_events',\n",
       "  'type': 'User',\n",
       "  'site_admin': False},\n",
       " 'labels': [{'id': 300136587,\n",
       "   'node_id': 'MDU6TGFiZWwzMDAxMzY1ODc=',\n",
       "   'url': 'https://api.github.com/repos/tensorflow/tensorflow/labels/cla:%20yes',\n",
       "   'name': 'cla: yes',\n",
       "   'color': '009800',\n",
       "   'default': False,\n",
       "   'description': None},\n",
       "  {'id': 386191887,\n",
       "   'node_id': 'MDU6TGFiZWwzODYxOTE4ODc=',\n",
       "   'url': 'https://api.github.com/repos/tensorflow/tensorflow/labels/stat:awaiting%20response',\n",
       "   'name': 'stat:awaiting response',\n",
       "   'color': 'f4b400',\n",
       "   'default': False,\n",
       "   'description': 'Status  - Awaiting response from author'},\n",
       "  {'id': 390482148,\n",
       "   'node_id': 'MDU6TGFiZWwzOTA0ODIxNDg=',\n",
       "   'url': 'https://api.github.com/repos/tensorflow/tensorflow/labels/awaiting%20review',\n",
       "   'name': 'awaiting review',\n",
       "   'color': 'bc3869',\n",
       "   'default': False,\n",
       "   'description': 'Pull request awaiting review'},\n",
       "  {'id': 1169365682,\n",
       "   'node_id': 'MDU6TGFiZWwxMTY5MzY1Njgy',\n",
       "   'url': 'https://api.github.com/repos/tensorflow/tensorflow/labels/size:L',\n",
       "   'name': 'size:L',\n",
       "   'color': 'adafea',\n",
       "   'default': False,\n",
       "   'description': 'CL Change Size: Large'},\n",
       "  {'id': 1754777628,\n",
       "   'node_id': 'MDU6TGFiZWwxNzU0Nzc3NjI4',\n",
       "   'url': 'https://api.github.com/repos/tensorflow/tensorflow/labels/comp:gpu:tensorrt',\n",
       "   'name': 'comp:gpu:tensorrt',\n",
       "   'color': 'ea98ba',\n",
       "   'default': False,\n",
       "   'description': 'Issues specific to TensorRT'}],\n",
       " 'state': 'open',\n",
       " 'locked': False,\n",
       " 'assignee': {'login': 'gbaned',\n",
       "  'id': 48215717,\n",
       "  'node_id': 'MDQ6VXNlcjQ4MjE1NzE3',\n",
       "  'avatar_url': 'https://avatars.githubusercontent.com/u/48215717?v=4',\n",
       "  'gravatar_id': '',\n",
       "  'url': 'https://api.github.com/users/gbaned',\n",
       "  'html_url': 'https://github.com/gbaned',\n",
       "  'followers_url': 'https://api.github.com/users/gbaned/followers',\n",
       "  'following_url': 'https://api.github.com/users/gbaned/following{/other_user}',\n",
       "  'gists_url': 'https://api.github.com/users/gbaned/gists{/gist_id}',\n",
       "  'starred_url': 'https://api.github.com/users/gbaned/starred{/owner}{/repo}',\n",
       "  'subscriptions_url': 'https://api.github.com/users/gbaned/subscriptions',\n",
       "  'organizations_url': 'https://api.github.com/users/gbaned/orgs',\n",
       "  'repos_url': 'https://api.github.com/users/gbaned/repos',\n",
       "  'events_url': 'https://api.github.com/users/gbaned/events{/privacy}',\n",
       "  'received_events_url': 'https://api.github.com/users/gbaned/received_events',\n",
       "  'type': 'User',\n",
       "  'site_admin': False},\n",
       " 'assignees': [{'login': 'gbaned',\n",
       "   'id': 48215717,\n",
       "   'node_id': 'MDQ6VXNlcjQ4MjE1NzE3',\n",
       "   'avatar_url': 'https://avatars.githubusercontent.com/u/48215717?v=4',\n",
       "   'gravatar_id': '',\n",
       "   'url': 'https://api.github.com/users/gbaned',\n",
       "   'html_url': 'https://github.com/gbaned',\n",
       "   'followers_url': 'https://api.github.com/users/gbaned/followers',\n",
       "   'following_url': 'https://api.github.com/users/gbaned/following{/other_user}',\n",
       "   'gists_url': 'https://api.github.com/users/gbaned/gists{/gist_id}',\n",
       "   'starred_url': 'https://api.github.com/users/gbaned/starred{/owner}{/repo}',\n",
       "   'subscriptions_url': 'https://api.github.com/users/gbaned/subscriptions',\n",
       "   'organizations_url': 'https://api.github.com/users/gbaned/orgs',\n",
       "   'repos_url': 'https://api.github.com/users/gbaned/repos',\n",
       "   'events_url': 'https://api.github.com/users/gbaned/events{/privacy}',\n",
       "   'received_events_url': 'https://api.github.com/users/gbaned/received_events',\n",
       "   'type': 'User',\n",
       "   'site_admin': False}],\n",
       " 'milestone': None,\n",
       " 'comments': 10,\n",
       " 'created_at': '2021-11-05T19:35:40Z',\n",
       " 'updated_at': '2021-11-22T22:58:49Z',\n",
       " 'closed_at': None,\n",
       " 'author_association': 'CONTRIBUTOR',\n",
       " 'active_lock_reason': None,\n",
       " 'draft': False,\n",
       " 'pull_request': {'url': 'https://api.github.com/repos/tensorflow/tensorflow/pulls/52967',\n",
       "  'html_url': 'https://github.com/tensorflow/tensorflow/pull/52967',\n",
       "  'diff_url': 'https://github.com/tensorflow/tensorflow/pull/52967.diff',\n",
       "  'patch_url': 'https://github.com/tensorflow/tensorflow/pull/52967.patch',\n",
       "  'merged_at': None},\n",
       " 'body': 'Adds ability to download and build TensorRT OSS components (github.com/NVIDIA/TensorRT) to the existing \"third_party/tensorrt\" package. The mechanism used is the same used for building NCCL components. Currently, only the EfficientNMS plugin and some supporting code is built. A small patch is applied to the external code to change file extensions, make include paths compatible, and ensure compatibility with static/shared library builds.',\n",
       " 'reactions': {'url': 'https://api.github.com/repos/tensorflow/tensorflow/issues/52967/reactions',\n",
       "  'total_count': 0,\n",
       "  '+1': 0,\n",
       "  '-1': 0,\n",
       "  'laugh': 0,\n",
       "  'hooray': 0,\n",
       "  'confused': 0,\n",
       "  'heart': 0,\n",
       "  'rocket': 0,\n",
       "  'eyes': 0},\n",
       " 'timeline_url': 'https://api.github.com/repos/tensorflow/tensorflow/issues/52967/timeline',\n",
       " 'performed_via_github_app': None}"
      ]
     },
     "execution_count": 4,
     "metadata": {},
     "output_type": "execute_result"
    }
   ],
   "source": [
    "data[\"issue\"][0]"
   ]
  },
  {
   "cell_type": "code",
   "execution_count": 16,
   "id": "73d902ae",
   "metadata": {},
   "outputs": [
    {
     "name": "stdout",
     "output_type": "stream",
     "text": [
      "None\n",
      "Status  - Awaiting response from author\n",
      "Pull request awaiting review\n",
      "CL Change Size: Large\n",
      "Issues specific to TensorRT\n"
     ]
    }
   ],
   "source": [
    "for i in data[\"issue\"][0][\"labels\"]:\n",
    "    print(i[\"description\"])"
   ]
  },
  {
   "cell_type": "code",
   "execution_count": 26,
   "id": "4371af8e",
   "metadata": {},
   "outputs": [
    {
     "data": {
      "text/plain": [
       "{'url': 'https://api.github.com/repos/tensorflow/tensorflow/issues/52967',\n",
       " 'repository_url': 'https://api.github.com/repos/tensorflow/tensorflow',\n",
       " 'labels_url': 'https://api.github.com/repos/tensorflow/tensorflow/issues/52967/labels{/name}',\n",
       " 'comments_url': 'https://api.github.com/repos/tensorflow/tensorflow/issues/52967/comments',\n",
       " 'events_url': 'https://api.github.com/repos/tensorflow/tensorflow/issues/52967/events',\n",
       " 'html_url': 'https://github.com/tensorflow/tensorflow/pull/52967',\n",
       " 'id': 1046181758,\n",
       " 'node_id': 'PR_kwDOArmXAs4uKnCu',\n",
       " 'number': 52967,\n",
       " 'title': 'Add NVIDIA/TensorRT repo to third_party/tensorrt',\n",
       " 'user': {'login': 'christopherbate',\n",
       "  'id': 30323187,\n",
       "  'node_id': 'MDQ6VXNlcjMwMzIzMTg3',\n",
       "  'avatar_url': 'https://avatars.githubusercontent.com/u/30323187?v=4',\n",
       "  'gravatar_id': '',\n",
       "  'url': 'https://api.github.com/users/christopherbate',\n",
       "  'html_url': 'https://github.com/christopherbate',\n",
       "  'followers_url': 'https://api.github.com/users/christopherbate/followers',\n",
       "  'following_url': 'https://api.github.com/users/christopherbate/following{/other_user}',\n",
       "  'gists_url': 'https://api.github.com/users/christopherbate/gists{/gist_id}',\n",
       "  'starred_url': 'https://api.github.com/users/christopherbate/starred{/owner}{/repo}',\n",
       "  'subscriptions_url': 'https://api.github.com/users/christopherbate/subscriptions',\n",
       "  'organizations_url': 'https://api.github.com/users/christopherbate/orgs',\n",
       "  'repos_url': 'https://api.github.com/users/christopherbate/repos',\n",
       "  'events_url': 'https://api.github.com/users/christopherbate/events{/privacy}',\n",
       "  'received_events_url': 'https://api.github.com/users/christopherbate/received_events',\n",
       "  'type': 'User',\n",
       "  'site_admin': False},\n",
       " 'labels': [{'id': 300136587,\n",
       "   'node_id': 'MDU6TGFiZWwzMDAxMzY1ODc=',\n",
       "   'url': 'https://api.github.com/repos/tensorflow/tensorflow/labels/cla:%20yes',\n",
       "   'name': 'cla: yes',\n",
       "   'color': '009800',\n",
       "   'default': False,\n",
       "   'description': None},\n",
       "  {'id': 386191887,\n",
       "   'node_id': 'MDU6TGFiZWwzODYxOTE4ODc=',\n",
       "   'url': 'https://api.github.com/repos/tensorflow/tensorflow/labels/stat:awaiting%20response',\n",
       "   'name': 'stat:awaiting response',\n",
       "   'color': 'f4b400',\n",
       "   'default': False,\n",
       "   'description': 'Status  - Awaiting response from author'},\n",
       "  {'id': 390482148,\n",
       "   'node_id': 'MDU6TGFiZWwzOTA0ODIxNDg=',\n",
       "   'url': 'https://api.github.com/repos/tensorflow/tensorflow/labels/awaiting%20review',\n",
       "   'name': 'awaiting review',\n",
       "   'color': 'bc3869',\n",
       "   'default': False,\n",
       "   'description': 'Pull request awaiting review'},\n",
       "  {'id': 1169365682,\n",
       "   'node_id': 'MDU6TGFiZWwxMTY5MzY1Njgy',\n",
       "   'url': 'https://api.github.com/repos/tensorflow/tensorflow/labels/size:L',\n",
       "   'name': 'size:L',\n",
       "   'color': 'adafea',\n",
       "   'default': False,\n",
       "   'description': 'CL Change Size: Large'},\n",
       "  {'id': 1754777628,\n",
       "   'node_id': 'MDU6TGFiZWwxNzU0Nzc3NjI4',\n",
       "   'url': 'https://api.github.com/repos/tensorflow/tensorflow/labels/comp:gpu:tensorrt',\n",
       "   'name': 'comp:gpu:tensorrt',\n",
       "   'color': 'ea98ba',\n",
       "   'default': False,\n",
       "   'description': 'Issues specific to TensorRT'}],\n",
       " 'state': 'open',\n",
       " 'locked': False,\n",
       " 'assignee': {'login': 'gbaned',\n",
       "  'id': 48215717,\n",
       "  'node_id': 'MDQ6VXNlcjQ4MjE1NzE3',\n",
       "  'avatar_url': 'https://avatars.githubusercontent.com/u/48215717?v=4',\n",
       "  'gravatar_id': '',\n",
       "  'url': 'https://api.github.com/users/gbaned',\n",
       "  'html_url': 'https://github.com/gbaned',\n",
       "  'followers_url': 'https://api.github.com/users/gbaned/followers',\n",
       "  'following_url': 'https://api.github.com/users/gbaned/following{/other_user}',\n",
       "  'gists_url': 'https://api.github.com/users/gbaned/gists{/gist_id}',\n",
       "  'starred_url': 'https://api.github.com/users/gbaned/starred{/owner}{/repo}',\n",
       "  'subscriptions_url': 'https://api.github.com/users/gbaned/subscriptions',\n",
       "  'organizations_url': 'https://api.github.com/users/gbaned/orgs',\n",
       "  'repos_url': 'https://api.github.com/users/gbaned/repos',\n",
       "  'events_url': 'https://api.github.com/users/gbaned/events{/privacy}',\n",
       "  'received_events_url': 'https://api.github.com/users/gbaned/received_events',\n",
       "  'type': 'User',\n",
       "  'site_admin': False},\n",
       " 'assignees': [{'login': 'gbaned',\n",
       "   'id': 48215717,\n",
       "   'node_id': 'MDQ6VXNlcjQ4MjE1NzE3',\n",
       "   'avatar_url': 'https://avatars.githubusercontent.com/u/48215717?v=4',\n",
       "   'gravatar_id': '',\n",
       "   'url': 'https://api.github.com/users/gbaned',\n",
       "   'html_url': 'https://github.com/gbaned',\n",
       "   'followers_url': 'https://api.github.com/users/gbaned/followers',\n",
       "   'following_url': 'https://api.github.com/users/gbaned/following{/other_user}',\n",
       "   'gists_url': 'https://api.github.com/users/gbaned/gists{/gist_id}',\n",
       "   'starred_url': 'https://api.github.com/users/gbaned/starred{/owner}{/repo}',\n",
       "   'subscriptions_url': 'https://api.github.com/users/gbaned/subscriptions',\n",
       "   'organizations_url': 'https://api.github.com/users/gbaned/orgs',\n",
       "   'repos_url': 'https://api.github.com/users/gbaned/repos',\n",
       "   'events_url': 'https://api.github.com/users/gbaned/events{/privacy}',\n",
       "   'received_events_url': 'https://api.github.com/users/gbaned/received_events',\n",
       "   'type': 'User',\n",
       "   'site_admin': False}],\n",
       " 'milestone': None,\n",
       " 'comments': 10,\n",
       " 'created_at': '2021-11-05T19:35:40Z',\n",
       " 'updated_at': '2021-11-22T22:58:49Z',\n",
       " 'closed_at': None,\n",
       " 'author_association': 'CONTRIBUTOR',\n",
       " 'active_lock_reason': None,\n",
       " 'draft': False,\n",
       " 'pull_request': {'url': 'https://api.github.com/repos/tensorflow/tensorflow/pulls/52967',\n",
       "  'html_url': 'https://github.com/tensorflow/tensorflow/pull/52967',\n",
       "  'diff_url': 'https://github.com/tensorflow/tensorflow/pull/52967.diff',\n",
       "  'patch_url': 'https://github.com/tensorflow/tensorflow/pull/52967.patch',\n",
       "  'merged_at': None},\n",
       " 'body': 'Adds ability to download and build TensorRT OSS components (github.com/NVIDIA/TensorRT) to the existing \"third_party/tensorrt\" package. The mechanism used is the same used for building NCCL components. Currently, only the EfficientNMS plugin and some supporting code is built. A small patch is applied to the external code to change file extensions, make include paths compatible, and ensure compatibility with static/shared library builds.',\n",
       " 'reactions': {'url': 'https://api.github.com/repos/tensorflow/tensorflow/issues/52967/reactions',\n",
       "  'total_count': 0,\n",
       "  '+1': 0,\n",
       "  '-1': 0,\n",
       "  'laugh': 0,\n",
       "  'hooray': 0,\n",
       "  'confused': 0,\n",
       "  'heart': 0,\n",
       "  'rocket': 0,\n",
       "  'eyes': 0},\n",
       " 'timeline_url': 'https://api.github.com/repos/tensorflow/tensorflow/issues/52967/timeline',\n",
       " 'performed_via_github_app': None}"
      ]
     },
     "execution_count": 26,
     "metadata": {},
     "output_type": "execute_result"
    }
   ],
   "source": [
    "issue_0 = data[\"issue\"][0]\n",
    "issue_0"
   ]
  },
  {
   "cell_type": "code",
   "execution_count": 106,
   "id": "fd9c8807",
   "metadata": {},
   "outputs": [],
   "source": [
    "def get_issue_label(issue_num):\n",
    "    \"\"\"\n",
    "    input:issue item:item\n",
    "    output:issue item label:list\n",
    "    \"\"\"\n",
    "    label_name = []\n",
    "    label_describe = []\n",
    "    for i in issue_num[\"labels\"]:\n",
    "        label_name.append(i[\"name\"])\n",
    "        label_describe.append(i[\"description\"])\n",
    "    \n",
    "    return label_name,label_describe"
   ]
  },
  {
   "cell_type": "code",
   "execution_count": 107,
   "id": "762019b6",
   "metadata": {},
   "outputs": [],
   "source": [
    "def get_issue_df(data):\n",
    "    df = pd.DataFrame(columns=[\"id\",\"body\",\"label_name\",\"label_describe\",\"title\"])\n",
    "    for item in data[\"issue\"]:\n",
    "        label_name,label_describe = get_issue_label(item)\n",
    "        pd_data = {\"id\":item[\"id\"],\"body\":item[\"body\"],\"label_name\":label_name,\"label_describe\":label_describe,\"title\":item[\"title\"]}\n",
    "        df = df.append(pd_data,ignore_index=True)\n",
    "    return df\n",
    "df = get_issue_df(data)"
   ]
  },
  {
   "cell_type": "code",
   "execution_count": 115,
   "id": "668202d1",
   "metadata": {},
   "outputs": [
    {
     "data": {
      "text/plain": [
       "True     64\n",
       "False    36\n",
       "Name: id, dtype: int64"
      ]
     },
     "execution_count": 115,
     "metadata": {},
     "output_type": "execute_result"
    }
   ],
   "source": [
    "df.id.duplicated().value_counts()"
   ]
  }
 ],
 "metadata": {
  "kernelspec": {
   "display_name": "Python 3",
   "language": "python",
   "name": "python3"
  },
  "language_info": {
   "codemirror_mode": {
    "name": "ipython",
    "version": 3
   },
   "file_extension": ".py",
   "mimetype": "text/x-python",
   "name": "python",
   "nbconvert_exporter": "python",
   "pygments_lexer": "ipython3",
   "version": "3.6.13"
  }
 },
 "nbformat": 4,
 "nbformat_minor": 5
}
