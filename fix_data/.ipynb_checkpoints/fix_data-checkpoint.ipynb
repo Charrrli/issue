{
 "cells": [
  {
   "cell_type": "code",
   "execution_count": 5,
   "id": "c29d77d2",
   "metadata": {},
   "outputs": [],
   "source": [
    "import pandas as pd\n",
    "import os"
   ]
  },
  {
   "cell_type": "code",
   "execution_count": 30,
   "id": "6ef7c64a",
   "metadata": {},
   "outputs": [
    {
     "name": "stdout",
     "output_type": "stream",
     "text": [
      "9489\n",
      "5843\n"
     ]
    }
   ],
   "source": [
    "parent_path = \"E:/数据集/issue_data/issue报告\"\n",
    "path_list = [i for i in os.listdir(parent_path) if i.endswith(\".json\")]\n",
    "key_words = [\"issue\",\"security\"]\n",
    "res_github_issue = []\n",
    "for path in path_list:\n",
    "    target_path = os.path.join(parent_path,path)\n",
    "    data = pd.read_json(target_path)\n",
    "    for i in data.CVE_Items:\n",
    "        for j in i[\"cve\"][\"references\"][\"reference_data\"]:\n",
    "            if \"github\" in j[\"url\"]:\n",
    "                if any([i in j[\"url\"] for i in key_words]):\n",
    "                    res_github_issue.append(j[\"url\"])\n",
    "                elif \"Patch\" in j[\"tags\"] and \"pul\" in j[\"url\"] and \"commits\" not in j[\"url\"]:\n",
    "                    res_github_issue.append(j[\"url\"])\n",
    "print(len(res_github_issue))\n",
    "print(len([i for i in res_github_issue if \"issues\"in i]))"
   ]
  },
  {
   "cell_type": "code",
   "execution_count": 32,
   "id": "f82f4a91",
   "metadata": {},
   "outputs": [
    {
     "data": {
      "text/plain": [
       "False"
      ]
     },
     "execution_count": 32,
     "metadata": {},
     "output_type": "execute_result"
    }
   ],
   "source": [
    "len(res_github_issue)==len(set(res_github_issue))"
   ]
  },
  {
   "cell_type": "code",
   "execution_count": 11,
   "id": "77c5e4ae",
   "metadata": {},
   "outputs": [
    {
     "data": {
      "text/plain": [
       "['nvdcve-1.1-2017.json',\n",
       " 'nvdcve-1.1-2018.json',\n",
       " 'nvdcve-1.1-2019.json',\n",
       " 'nvdcve-1.1-2020.json',\n",
       " 'nvdcve-1.1-2021.json']"
      ]
     },
     "execution_count": 11,
     "metadata": {},
     "output_type": "execute_result"
    }
   ],
   "source": [
    "path_list"
   ]
  },
  {
   "cell_type": "code",
   "execution_count": 18,
   "id": "63534856",
   "metadata": {},
   "outputs": [
    {
     "data": {
      "text/plain": [
       "'CVE-2021-0001'"
      ]
     },
     "execution_count": 18,
     "metadata": {},
     "output_type": "execute_result"
    }
   ],
   "source": [
    "data.CVE_Items[0][\"cve\"][\"CVE_data_meta\"][\"ID\"]"
   ]
  },
  {
   "cell_type": "code",
   "execution_count": 16,
   "id": "97b9e429",
   "metadata": {},
   "outputs": [
    {
     "data": {
      "text/plain": [
       "{'cve': {'data_type': 'CVE',\n",
       "  'data_format': 'MITRE',\n",
       "  'data_version': '4.0',\n",
       "  'CVE_data_meta': {'ID': 'CVE-2021-0001', 'ASSIGNER': 'secure@intel.com'},\n",
       "  'problemtype': {'problemtype_data': [{'description': [{'lang': 'en',\n",
       "       'value': 'CWE-203'}]}]},\n",
       "  'references': {'reference_data': [{'url': 'https://www.intel.com/content/www/us/en/security-center/advisory/intel-sa-00477.html',\n",
       "     'name': 'https://www.intel.com/content/www/us/en/security-center/advisory/intel-sa-00477.html',\n",
       "     'refsource': 'MISC',\n",
       "     'tags': ['Patch', 'Vendor Advisory']}]},\n",
       "  'description': {'description_data': [{'lang': 'en',\n",
       "     'value': 'Observable timing discrepancy in Intel(R) IPP before version 2020 update 1 may allow authorized user to potentially enable information disclosure via local access.'}]}},\n",
       " 'configurations': {'CVE_data_version': '4.0',\n",
       "  'nodes': [{'operator': 'OR',\n",
       "    'children': [],\n",
       "    'cpe_match': [{'vulnerable': True,\n",
       "      'cpe23Uri': 'cpe:2.3:a:intel:integrated_performance_primitives_cryptography:2019:-:*:*:*:*:*:*',\n",
       "      'cpe_name': []},\n",
       "     {'vulnerable': True,\n",
       "      'cpe23Uri': 'cpe:2.3:a:intel:integrated_performance_primitives_cryptography:2019:update_1:*:*:*:*:*:*',\n",
       "      'cpe_name': []},\n",
       "     {'vulnerable': True,\n",
       "      'cpe23Uri': 'cpe:2.3:a:intel:integrated_performance_primitives_cryptography:2019:update_2:*:*:*:*:*:*',\n",
       "      'cpe_name': []},\n",
       "     {'vulnerable': True,\n",
       "      'cpe23Uri': 'cpe:2.3:a:intel:integrated_performance_primitives_cryptography:2019:update_3:*:*:*:*:*:*',\n",
       "      'cpe_name': []},\n",
       "     {'vulnerable': True,\n",
       "      'cpe23Uri': 'cpe:2.3:a:intel:integrated_performance_primitives_cryptography:2019:update_4:*:*:*:*:*:*',\n",
       "      'cpe_name': []},\n",
       "     {'vulnerable': True,\n",
       "      'cpe23Uri': 'cpe:2.3:a:intel:integrated_performance_primitives_cryptography:2020:-:*:*:*:*:*:*',\n",
       "      'cpe_name': []},\n",
       "     {'vulnerable': True,\n",
       "      'cpe23Uri': 'cpe:2.3:a:intel:sgx_dcap:*:*:*:*:*:linux:*:*',\n",
       "      'versionEndIncluding': '1.10.100.4',\n",
       "      'cpe_name': []},\n",
       "     {'vulnerable': True,\n",
       "      'cpe23Uri': 'cpe:2.3:a:intel:sgx_dcap:*:*:*:*:*:windows:*:*',\n",
       "      'versionEndIncluding': '1.10.100.4',\n",
       "      'cpe_name': []},\n",
       "     {'vulnerable': True,\n",
       "      'cpe23Uri': 'cpe:2.3:a:intel:sgx_psw:*:*:*:*:*:windows:*:*',\n",
       "      'versionEndIncluding': '2.12.100.4',\n",
       "      'cpe_name': []},\n",
       "     {'vulnerable': True,\n",
       "      'cpe23Uri': 'cpe:2.3:a:intel:sgx_psw:*:*:*:*:*:linux:*:*',\n",
       "      'versionEndIncluding': '2.13.100.4',\n",
       "      'cpe_name': []},\n",
       "     {'vulnerable': True,\n",
       "      'cpe23Uri': 'cpe:2.3:a:intel:sgx_sdk:*:*:*:*:*:windows:*:*',\n",
       "      'versionEndIncluding': '2.12.100.4',\n",
       "      'cpe_name': []},\n",
       "     {'vulnerable': True,\n",
       "      'cpe23Uri': 'cpe:2.3:a:intel:sgx_sdk:*:*:*:*:*:linux:*:*',\n",
       "      'versionEndIncluding': '2.13.100.4',\n",
       "      'cpe_name': []}]}]},\n",
       " 'impact': {'baseMetricV3': {'cvssV3': {'version': '3.1',\n",
       "    'vectorString': 'CVSS:3.1/AV:L/AC:H/PR:L/UI:N/S:U/C:H/I:N/A:N',\n",
       "    'attackVector': 'LOCAL',\n",
       "    'attackComplexity': 'HIGH',\n",
       "    'privilegesRequired': 'LOW',\n",
       "    'userInteraction': 'NONE',\n",
       "    'scope': 'UNCHANGED',\n",
       "    'confidentialityImpact': 'HIGH',\n",
       "    'integrityImpact': 'NONE',\n",
       "    'availabilityImpact': 'NONE',\n",
       "    'baseScore': 4.7,\n",
       "    'baseSeverity': 'MEDIUM'},\n",
       "   'exploitabilityScore': 1.0,\n",
       "   'impactScore': 3.6},\n",
       "  'baseMetricV2': {'cvssV2': {'version': '2.0',\n",
       "    'vectorString': 'AV:L/AC:L/Au:N/C:P/I:N/A:N',\n",
       "    'accessVector': 'LOCAL',\n",
       "    'accessComplexity': 'LOW',\n",
       "    'authentication': 'NONE',\n",
       "    'confidentialityImpact': 'PARTIAL',\n",
       "    'integrityImpact': 'NONE',\n",
       "    'availabilityImpact': 'NONE',\n",
       "    'baseScore': 2.1},\n",
       "   'severity': 'LOW',\n",
       "   'exploitabilityScore': 3.9,\n",
       "   'impactScore': 2.9,\n",
       "   'acInsufInfo': False,\n",
       "   'obtainAllPrivilege': False,\n",
       "   'obtainUserPrivilege': False,\n",
       "   'obtainOtherPrivilege': False,\n",
       "   'userInteractionRequired': False}},\n",
       " 'publishedDate': '2021-06-09T20:15Z',\n",
       " 'lastModifiedDate': '2021-06-28T18:03Z'}"
      ]
     },
     "execution_count": 16,
     "metadata": {},
     "output_type": "execute_result"
    }
   ],
   "source": [
    "data.CVE_Items[0]"
   ]
  },
  {
   "cell_type": "code",
   "execution_count": null,
   "id": "dd714b17",
   "metadata": {},
   "outputs": [],
   "source": []
  }
 ],
 "metadata": {
  "kernelspec": {
   "display_name": "Python 3",
   "language": "python",
   "name": "python3"
  },
  "language_info": {
   "codemirror_mode": {
    "name": "ipython",
    "version": 3
   },
   "file_extension": ".py",
   "mimetype": "text/x-python",
   "name": "python",
   "nbconvert_exporter": "python",
   "pygments_lexer": "ipython3",
   "version": "3.6.13"
  }
 },
 "nbformat": 4,
 "nbformat_minor": 5
}
